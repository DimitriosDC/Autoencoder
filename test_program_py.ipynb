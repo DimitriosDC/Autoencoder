{
  "cells": [
    {
      "cell_type": "code",
      "execution_count": null,
      "metadata": {
        "id": "dKLWGJGYOxmz"
      },
      "outputs": [],
      "source": [
        "from torch.utils.data import Dataset, random_split, DataLoader\n",
        "import numpy as np\n",
        "import random\n",
        "import matplotlib.pyplot as plt\n",
        "from scipy.linalg import block_diag\n",
        "import math\n",
        "import pandas as pd\n",
        "import torch\n",
        "import torchvision\n",
        "from torch import nn, optim\n",
        "from sklearn import decomposition\n",
        "import statistics\n",
        "import torch.nn.functional as F\n",
        "\n",
        "import os\n",
        "import sys"
      ]
    },
    {
      "cell_type": "code",
      "execution_count": null,
      "metadata": {
        "id": "nj41nggzPVZY"
      },
      "outputs": [],
      "source": [
        "torch.backends.cudnn.benchmark = False\n",
        "torch.backends.cudnn.deterministic = True\n",
        "\n",
        "import sys\n",
        "seed =  int(sys.argv[1])\n",
        "\n",
        "torch.manual_seed(seed) # torch seed\n",
        "random.seed(seed) # Removed this to set seed globally for whole file\n",
        "np.random.seed(seed)"
      ]
    },
    {
      "cell_type": "code",
      "execution_count": null,
      "metadata": {
        "id": "mtSo9zpPPV7W"
      },
      "outputs": [],
      "source": [
        "# custom data functions\n",
        "# %% Create input sheet\n",
        "# creates two input sheets with the same size and receptor density\n",
        "\n",
        "print(seed*2)\n",
        "\n",
        "\n"
      ]
    }
  ],
  "metadata": {
    "accelerator": "GPU",
    "colab": {
      "provenance": []
    },
    "gpuClass": "standard",
    "kernelspec": {
      "display_name": "Python 3",
      "name": "python3"
    },
    "language_info": {
      "name": "python"
    }
  },
  "nbformat": 4,
  "nbformat_minor": 0
}